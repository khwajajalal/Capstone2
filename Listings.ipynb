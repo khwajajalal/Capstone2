{
 "cells": [
  {
   "cell_type": "code",
   "execution_count": 233,
   "metadata": {},
   "outputs": [
    {
     "data": {
      "text/html": [
       "<div>\n",
       "<style scoped>\n",
       "    .dataframe tbody tr th:only-of-type {\n",
       "        vertical-align: middle;\n",
       "    }\n",
       "\n",
       "    .dataframe tbody tr th {\n",
       "        vertical-align: top;\n",
       "    }\n",
       "\n",
       "    .dataframe thead th {\n",
       "        text-align: right;\n",
       "    }\n",
       "</style>\n",
       "<table border=\"1\" class=\"dataframe\">\n",
       "  <thead>\n",
       "    <tr style=\"text-align: right;\">\n",
       "      <th></th>\n",
       "      <th>id</th>\n",
       "      <th>host_id</th>\n",
       "      <th>host_since</th>\n",
       "      <th>host_is_superhost</th>\n",
       "      <th>host_listings_count</th>\n",
       "      <th>neighbourhood</th>\n",
       "      <th>neighbourhood_cleansed</th>\n",
       "      <th>city</th>\n",
       "      <th>zipcode</th>\n",
       "      <th>latitude</th>\n",
       "      <th>longitude</th>\n",
       "      <th>property_type</th>\n",
       "      <th>room_type</th>\n",
       "      <th>accommodates</th>\n",
       "      <th>price</th>\n",
       "      <th>minimum_nights</th>\n",
       "      <th>maximum_nights</th>\n",
       "      <th>availability_365</th>\n",
       "      <th>number_of_reviews</th>\n",
       "      <th>review_scores_rating</th>\n",
       "    </tr>\n",
       "  </thead>\n",
       "  <tbody>\n",
       "    <tr>\n",
       "      <td>0</td>\n",
       "      <td>11156</td>\n",
       "      <td>40855</td>\n",
       "      <td>2009-09-23</td>\n",
       "      <td>f</td>\n",
       "      <td>1.0</td>\n",
       "      <td>Elizabeth Bay/Rushcutters Bay</td>\n",
       "      <td>Sydney</td>\n",
       "      <td>Potts Point</td>\n",
       "      <td>2011</td>\n",
       "      <td>-33.86917</td>\n",
       "      <td>151.22656</td>\n",
       "      <td>Apartment</td>\n",
       "      <td>Private room</td>\n",
       "      <td>1</td>\n",
       "      <td>64.0</td>\n",
       "      <td>2</td>\n",
       "      <td>180</td>\n",
       "      <td>364</td>\n",
       "      <td>196</td>\n",
       "      <td>92.0</td>\n",
       "    </tr>\n",
       "    <tr>\n",
       "      <td>1</td>\n",
       "      <td>12351</td>\n",
       "      <td>17061</td>\n",
       "      <td>2009-05-14</td>\n",
       "      <td>f</td>\n",
       "      <td>2.0</td>\n",
       "      <td>Pyrmont</td>\n",
       "      <td>Sydney</td>\n",
       "      <td>Pyrmont</td>\n",
       "      <td>2009</td>\n",
       "      <td>-33.86515</td>\n",
       "      <td>151.19190</td>\n",
       "      <td>Townhouse</td>\n",
       "      <td>Private room</td>\n",
       "      <td>2</td>\n",
       "      <td>14314.0</td>\n",
       "      <td>2</td>\n",
       "      <td>7</td>\n",
       "      <td>0</td>\n",
       "      <td>526</td>\n",
       "      <td>95.0</td>\n",
       "    </tr>\n",
       "    <tr>\n",
       "      <td>2</td>\n",
       "      <td>14250</td>\n",
       "      <td>55948</td>\n",
       "      <td>2009-11-20</td>\n",
       "      <td>t</td>\n",
       "      <td>2.0</td>\n",
       "      <td>Balgowlah</td>\n",
       "      <td>Manly</td>\n",
       "      <td>Balgowlah</td>\n",
       "      <td>2093</td>\n",
       "      <td>-33.80093</td>\n",
       "      <td>151.26172</td>\n",
       "      <td>House</td>\n",
       "      <td>Entire home/apt</td>\n",
       "      <td>6</td>\n",
       "      <td>471.0</td>\n",
       "      <td>5</td>\n",
       "      <td>22</td>\n",
       "      <td>173</td>\n",
       "      <td>2</td>\n",
       "      <td>90.0</td>\n",
       "    </tr>\n",
       "  </tbody>\n",
       "</table>\n",
       "</div>"
      ],
      "text/plain": [
       "      id  host_id host_since host_is_superhost  host_listings_count  \\\n",
       "0  11156    40855 2009-09-23                 f                  1.0   \n",
       "1  12351    17061 2009-05-14                 f                  2.0   \n",
       "2  14250    55948 2009-11-20                 t                  2.0   \n",
       "\n",
       "                   neighbourhood neighbourhood_cleansed         city zipcode  \\\n",
       "0  Elizabeth Bay/Rushcutters Bay                 Sydney  Potts Point    2011   \n",
       "1                        Pyrmont                 Sydney      Pyrmont    2009   \n",
       "2                      Balgowlah                  Manly    Balgowlah    2093   \n",
       "\n",
       "   latitude  longitude property_type        room_type  accommodates    price  \\\n",
       "0 -33.86917  151.22656     Apartment     Private room             1     64.0   \n",
       "1 -33.86515  151.19190     Townhouse     Private room             2  14314.0   \n",
       "2 -33.80093  151.26172         House  Entire home/apt             6    471.0   \n",
       "\n",
       "   minimum_nights  maximum_nights  availability_365  number_of_reviews  \\\n",
       "0               2             180               364                196   \n",
       "1               2               7                 0                526   \n",
       "2               5              22               173                  2   \n",
       "\n",
       "   review_scores_rating  \n",
       "0                  92.0  \n",
       "1                  95.0  \n",
       "2                  90.0  "
      ]
     },
     "execution_count": 233,
     "metadata": {},
     "output_type": "execute_result"
    }
   ],
   "source": [
    "import pandas as pd\n",
    "import numpy as np\n",
    "import matplotlib.pyplot as plt\n",
    "pd.set_option('display.max_columns',200)\n",
    "pd.set_option('display.max_rows',100)\n",
    "%matplotlib inline\n",
    "columns=['id', 'host_id', 'host_since', 'host_is_superhost',  'host_listings_count', 'neighbourhood', 'neighbourhood_cleansed', 'city', 'zipcode',\n",
    "         'latitude', 'longitude','property_type','room_type', 'accommodates', 'price', 'minimum_nights', 'maximum_nights', 'availability_365', 'number_of_reviews',\n",
    "         'review_scores_rating']\n",
    "listings=pd.read_csv('listings.csv.gz',usecols=columns)\n",
    "listings['host_since']=pd.to_datetime(listings['host_since'])\n",
    "listings['price']=listings.price.str.replace('$', '')\n",
    "listings['price']=listings.price.str.replace(',','')\n",
    "listings['price']=listings.price.astype(float)\n",
    "listings.head(3)"
   ]
  },
  {
   "cell_type": "code",
   "execution_count": null,
   "metadata": {},
   "outputs": [],
   "source": []
  },
  {
   "cell_type": "code",
   "execution_count": 168,
   "metadata": {},
   "outputs": [
    {
     "name": "stdout",
     "output_type": "stream",
     "text": [
      "<class 'pandas.core.frame.DataFrame'>\n",
      "RangeIndex: 36901 entries, 0 to 36900\n",
      "Data columns (total 22 columns):\n",
      "id                        36901 non-null int64\n",
      "name                      36889 non-null object\n",
      "host_id                   36901 non-null int64\n",
      "host_name                 36894 non-null object\n",
      "host_since                36894 non-null datetime64[ns]\n",
      "host_is_superhost         36894 non-null object\n",
      "host_listings_count       36894 non-null float64\n",
      "neighbourhood             31769 non-null object\n",
      "neighbourhood_cleansed    36901 non-null object\n",
      "city                      36873 non-null object\n",
      "zipcode                   36776 non-null object\n",
      "latitude                  36901 non-null float64\n",
      "longitude                 36901 non-null float64\n",
      "property_type             36901 non-null object\n",
      "room_type                 36901 non-null object\n",
      "accommodates              36901 non-null int64\n",
      "price                     36901 non-null float64\n",
      "minimum_nights            36901 non-null int64\n",
      "maximum_nights            36901 non-null int64\n",
      "availability_365          36901 non-null int64\n",
      "number_of_reviews         36901 non-null int64\n",
      "review_scores_rating      25474 non-null float64\n",
      "dtypes: datetime64[ns](1), float64(5), int64(7), object(9)\n",
      "memory usage: 6.2+ MB\n"
     ]
    }
   ],
   "source": [
    "listings.host_since.dtype\n",
    "listings.info()"
   ]
  },
  {
   "cell_type": "code",
   "execution_count": 152,
   "metadata": {},
   "outputs": [],
   "source": [
    "# listings.host_total_listings_count.unique()\n",
    "# listings[['host_listings_count', 'host_total_listings_count']][]\n",
    "# listings[['number_of_reviews', 'review_scores_rating']]\n",
    "# # listings[listings['host_listings_count'] == listings['host_total_listings_count']].shape# listings.h# listings.host_since.min()\n",
    "# listings.host_since.min()\n",
    "# listings.host_since.max()\n",
    "# listings.instant_bookable.value_counts()\n",
    "# listings.shape\n",
    "# listings['host_since'].dt.year\n",
    "# listings.review_scores_rating.isnull().sum()\n",
    "# listings.bed_type.value_counts()\n",
    "# listings.price.dtypes\n",
    "# listings.price.isnull().sum()\n",
    "# listings.neighbourhood.unique()\n",
    "# listings.neighbourhood_cleansed.isnull().sum()\n"
   ]
  },
  {
   "cell_type": "code",
   "execution_count": 216,
   "metadata": {},
   "outputs": [
    {
     "data": {
      "text/plain": [
       "(36901, 26947, 13772, 23129)"
      ]
     },
     "execution_count": 216,
     "metadata": {},
     "output_type": "execute_result"
    }
   ],
   "source": [
    "host_id_count=listings.host_id.value_counts()\n",
    "unique_hosts=len(host_id_count)\n",
    "single_listings=host_id_count[host_id_count==1].count()\n",
    "multi_listings=len(listings.host_id) - single_listings\n",
    "len(listings.host_id), unique_hosts, multi_listings, single_listings"
   ]
  },
  {
   "cell_type": "code",
   "execution_count": 217,
   "metadata": {},
   "outputs": [
    {
     "data": {
      "text/plain": [
       "(36901, 20)"
      ]
     },
     "execution_count": 217,
     "metadata": {},
     "output_type": "execute_result"
    }
   ],
   "source": [
    "listings.shape"
   ]
  },
  {
   "cell_type": "code",
   "execution_count": null,
   "metadata": {},
   "outputs": [],
   "source": []
  },
  {
   "cell_type": "code",
   "execution_count": 170,
   "metadata": {},
   "outputs": [
    {
     "data": {
      "text/plain": [
       "Index(['id', 'host_id', 'host_since', 'host_is_superhost',\n",
       "       'host_listings_count', 'neighbourhood', 'neighbourhood_cleansed',\n",
       "       'city', 'zipcode', 'latitude', 'longitude', 'property_type',\n",
       "       'room_type', 'accommodates', 'price', 'minimum_nights',\n",
       "       'maximum_nights', 'availability_365', 'number_of_reviews',\n",
       "       'review_scores_rating'],\n",
       "      dtype='object')"
      ]
     },
     "execution_count": 170,
     "metadata": {},
     "output_type": "execute_result"
    }
   ],
   "source": [
    "listings.columns"
   ]
  },
  {
   "cell_type": "code",
   "execution_count": 235,
   "metadata": {},
   "outputs": [
    {
     "data": {
      "text/plain": [
       "<matplotlib.axes._subplots.AxesSubplot at 0x6b54565708>"
      ]
     },
     "execution_count": 235,
     "metadata": {},
     "output_type": "execute_result"
    },
    {
     "data": {
      "image/png": "[encoded data removed]",
      "text/plain": [
       "<Figure size 432x288 with 1 Axes>"
      ]
     },
     "metadata": {
      "needs_background": "light"
     },
     "output_type": "display_data"
    }
   ],
   "source": [
    "listings.neighbourhood_cleansed.unique()\n",
    "listings.neighbourhood_cleansed.value_counts().plot(kind='bar')\n"
   ]
  },
  {
   "cell_type": "code",
   "execution_count": null,
   "metadata": {},
   "outputs": [],
   "source": []
  },
  {
   "cell_type": "code",
   "execution_count": null,
   "metadata": {},
   "outputs": [],
   "source": []
  },
  {
   "cell_type": "code",
   "execution_count": null,
   "metadata": {},
   "outputs": [],
   "source": []
  },
  {
   "cell_type": "code",
   "execution_count": null,
   "metadata": {},
   "outputs": [],
   "source": []
  },
  {
   "cell_type": "code",
   "execution_count": null,
   "metadata": {},
   "outputs": [],
   "source": []
  }
 ],
 "metadata": {
  "kernelspec": {
   "display_name": "Python 3",
   "language": "python",
   "name": "python3"
  },
  "language_info": {
   "codemirror_mode": {
    "name": "ipython",
    "version": 3
   },
   "file_extension": ".py",
   "mimetype": "text/x-python",
   "name": "python",
   "nbconvert_exporter": "python",
   "pygments_lexer": "ipython3",
   "version": "3.7.4"
  }
 },
 "nbformat": 4,
 "nbformat_minor": 4
}
