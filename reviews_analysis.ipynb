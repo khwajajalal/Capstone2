{
 "cells": [
  {
   "cell_type": "code",
   "execution_count": 11,
   "metadata": {},
   "outputs": [
    {
     "data": {
      "text/html": [
       "<div>\n",
       "<style scoped>\n",
       "    .dataframe tbody tr th:only-of-type {\n",
       "        vertical-align: middle;\n",
       "    }\n",
       "\n",
       "    .dataframe tbody tr th {\n",
       "        vertical-align: top;\n",
       "    }\n",
       "\n",
       "    .dataframe thead th {\n",
       "        text-align: right;\n",
       "    }\n",
       "</style>\n",
       "<table border=\"1\" class=\"dataframe\">\n",
       "  <thead>\n",
       "    <tr style=\"text-align: right;\">\n",
       "      <th></th>\n",
       "      <th>date</th>\n",
       "      <th>comments</th>\n",
       "      <th>year</th>\n",
       "    </tr>\n",
       "  </thead>\n",
       "  <tbody>\n",
       "    <tr>\n",
       "      <td>0</td>\n",
       "      <td>2009-12-05</td>\n",
       "      <td>Colleen was friendly and very helpful regarding directions, maps and suggestions for places to go.\\r\\nHer flat is centrally located and it's easy to walk ab...</td>\n",
       "      <td>2009</td>\n",
       "    </tr>\n",
       "    <tr>\n",
       "      <td>1</td>\n",
       "      <td>2010-03-31</td>\n",
       "      <td>Great place, centrally located, easy walk to train station, bus station across the street.  Walking distance to great bars, clubs, and restaurants.  Very go...</td>\n",
       "      <td>2010</td>\n",
       "    </tr>\n",
       "    <tr>\n",
       "      <td>2</td>\n",
       "      <td>2010-05-14</td>\n",
       "      <td>Colleen is very friendly and helpful. The apartment is nice and located conveniently.</td>\n",
       "      <td>2010</td>\n",
       "    </tr>\n",
       "  </tbody>\n",
       "</table>\n",
       "</div>"
      ],
      "text/plain": [
       "        date  \\\n",
       "0 2009-12-05   \n",
       "1 2010-03-31   \n",
       "2 2010-05-14   \n",
       "\n",
       "                                                                                                                                                          comments  \\\n",
       "0  Colleen was friendly and very helpful regarding directions, maps and suggestions for places to go.\\r\\nHer flat is centrally located and it's easy to walk ab...   \n",
       "1  Great place, centrally located, easy walk to train station, bus station across the street.  Walking distance to great bars, clubs, and restaurants.  Very go...   \n",
       "2                                                                           Colleen is very friendly and helpful. The apartment is nice and located conveniently.    \n",
       "\n",
       "   year  \n",
       "0  2009  \n",
       "1  2010  \n",
       "2  2010  "
      ]
     },
     "execution_count": 11,
     "metadata": {},
     "output_type": "execute_result"
    }
   ],
   "source": [
    "import pandas as pd\n",
    "import numpy as np\n",
    "import matplotlib.pyplot as plt\n",
    "import seaborn as sns\n",
    "pd.set_option('display.max_columns',200)\n",
    "pd.set_option('display.max_rows',100)\n",
    "pd.set_option('display.max_colwidth',160)\n",
    "sns.set(rc={'figure.figsize': (20,3)})\n",
    "%matplotlib inline\n",
    "reviews=pd.read_csv('reviews.csv.gz', usecols=['date', 'comments'])\n",
    "reviews['date']=pd.to_datetime(reviews.date)\n",
    "reviews['year']=reviews.date.dt.year\n",
    "reviews.head(3)"
   ]
  },
  {
   "cell_type": "code",
   "execution_count": 10,
   "metadata": {},
   "outputs": [],
   "source": []
  },
  {
   "cell_type": "code",
   "execution_count": 3,
   "metadata": {},
   "outputs": [
    {
     "name": "stdout",
     "output_type": "stream",
     "text": [
      "<class 'pandas.core.frame.DataFrame'>\n",
      "RangeIndex: 548607 entries, 0 to 548606\n",
      "Data columns (total 3 columns):\n",
      "date        548607 non-null datetime64[ns]\n",
      "comments    548322 non-null object\n",
      "year        548607 non-null int64\n",
      "dtypes: datetime64[ns](1), int64(1), object(1)\n",
      "memory usage: 12.6+ MB\n"
     ]
    }
   ],
   "source": [
    "reviews.info()"
   ]
  },
  {
   "cell_type": "code",
   "execution_count": 16,
   "metadata": {},
   "outputs": [
    {
     "data": {
      "text/plain": [
       "<matplotlib.axes._subplots.AxesSubplot at 0x51924ed888>"
      ]
     },
     "execution_count": 16,
     "metadata": {},
     "output_type": "execute_result"
    },
    {
     "data": {
      "image/png": "[encoded data removed]",
      "text/plain": [
       "<Figure size 432x288 with 1 Axes>"
      ]
     },
     "metadata": {
      "needs_background": "light"
     },
     "output_type": "display_data"
    }
   ],
   "source": [
    "reviews_count=reviews.groupby('year')['date'].count()\n",
    "bookings=reviews_count * 2\n",
    "# reviews_year = pd.DataFrame(reviews_data.groupby(['year']).review_date.count().reset_index())\n",
    "# bookings.plot(kind='bar', color='#B0BF1A')\n",
    "plt.title('Estimated Bookings Over Years')\n",
    "plt.ylabel('Number of Estimated Bookings')\n",
    "bookings.plot(kind='bar', color='#015045')\n"
   ]
  },
  {
   "cell_type": "code",
   "execution_count": 5,
   "metadata": {},
   "outputs": [
    {
     "data": {
      "text/plain": [
       "Index(['date', 'comments', 'year'], dtype='object')"
      ]
     },
     "execution_count": 5,
     "metadata": {},
     "output_type": "execute_result"
    }
   ],
   "source": [
    "reviews.columns"
   ]
  },
  {
   "cell_type": "code",
   "execution_count": 58,
   "metadata": {},
   "outputs": [],
   "source": [
    "reviews['comments']=reviews.comments.str.replace('!','')\n",
    "reviews['comments']=reviews.comments.str.replace(',','')\n",
    "reviews['comments']=reviews.comments.str.replace('.','')\n",
    "reviews['comments']=reviews.comments.str.replace('+','')\n",
    "reviews['comments']=reviews.comments.str.replace('%','')\n",
    "reviews['comments']=reviews.comments.str.replace('!','')\n",
    "reviews['comments']=reviews.comments.str.replace(':','')\n",
    "reviews['comments']=reviews.comments.str.replace('\\'','')\n",
    "reviews['comments']=reviews.comments.str.replace('\\\\','')\n",
    "reviews['comments']=reviews.comments.str.replace('/','')\n",
    "reviews['comments']=reviews.comments.str.replace('-','')\n",
    "reviews['comments']=reviews.comments.str.replace('(','')\n",
    "reviews['comments']=reviews.comments.str.replace(')','')"
   ]
  },
  {
   "cell_type": "code",
   "execution_count": 81,
   "metadata": {},
   "outputs": [],
   "source": [
    "reviews.columns\n",
    "reviews.comments.head(1000)\n",
    "reviews_sample=reviews.sample(frac=0.1)\n",
    "reviews_sample.shape\n",
    "reviews_sample.to_csv('reviews_sample.csv')\n"
   ]
  },
  {
   "cell_type": "code",
   "execution_count": 82,
   "metadata": {},
   "outputs": [
    {
     "data": {
      "text/plain": [
       "Index(['date', 'comments', 'year'], dtype='object')"
      ]
     },
     "execution_count": 82,
     "metadata": {},
     "output_type": "execute_result"
    }
   ],
   "source": [
    "reviews.columns"
   ]
  }
 ],
 "metadata": {
  "kernelspec": {
   "display_name": "Python 3",
   "language": "python",
   "name": "python3"
  },
  "language_info": {
   "codemirror_mode": {
    "name": "ipython",
    "version": 3
   },
   "file_extension": ".py",
   "mimetype": "text/x-python",
   "name": "python",
   "nbconvert_exporter": "python",
   "pygments_lexer": "ipython3",
   "version": "3.7.4"
  }
 },
 "nbformat": 4,
 "nbformat_minor": 4
}
